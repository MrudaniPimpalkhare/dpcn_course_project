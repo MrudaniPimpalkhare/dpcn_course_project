{
 "cells": [
  {
   "cell_type": "code",
   "execution_count": null,
   "id": "b998194b",
   "metadata": {},
   "outputs": [],
   "source": [
    "from training_data import create_training_dataset"
   ]
  },
  {
   "cell_type": "code",
   "execution_count": null,
   "id": "c5658770",
   "metadata": {},
   "outputs": [],
   "source": [
    "# Run a small test (e.g., 10 universes)\n",
    "# For your real training, you'll set num_universes=1000+\n",
    "NUM_UNIVERSES = 10000\n",
    "WINDOW_SIZE = 30\n",
    "TIME_STEPS_PER_EPSILON = 100\n",
    "\n",
    "samples, labels = create_training_dataset(\n",
    "    num_universes=NUM_UNIVERSES,\n",
    "    T=TIME_STEPS_PER_EPSILON,\n",
    "    w=WINDOW_SIZE\n",
    ")\n",
    "\n",
    "if samples:\n",
    "    print(\"\\n--- Example Output ---\")\n",
    "    print(f\"Total samples created: {len(samples)}\")\n",
    "    print(f\"Shape of first sample: {samples[0].shape}\")\n",
    "    print(f\"Label for first sample: {labels[0]}\")\n",
    "    print(f\"Shape of last sample: {samples[-1].shape}\")\n",
    "    print(f\"Label for last sample: {labels[-1]}\")\n",
    "    \n",
    "    # Verify that all samples from one universe get the same label\n",
    "    # (if you run more than one simulation)"
   ]
  }
 ],
 "metadata": {
  "kernelspec": {
   "display_name": "global",
   "language": "python",
   "name": "python3"
  },
  "language_info": {
   "codemirror_mode": {
    "name": "ipython",
    "version": 3
   },
   "file_extension": ".py",
   "mimetype": "text/x-python",
   "name": "python",
   "nbconvert_exporter": "python",
   "pygments_lexer": "ipython3",
   "version": "3.12.3"
  }
 },
 "nbformat": 4,
 "nbformat_minor": 5
}